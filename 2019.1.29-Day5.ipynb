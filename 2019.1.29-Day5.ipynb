{
 "cells": [
  {
   "cell_type": "markdown",
   "metadata": {},
   "source": [
    "#!/usr/bin/env python  \n",
    "#-*- coding:utf-8 -*-\n",
    "\n",
    "# 见枫的Python学习Day5——2019.1.29  \n",
    "## 一、学前准备\n",
    "①书籍参考:  \n",
    "&emsp;&emsp;主：《Python编程快速上手——让繁琐的工作自动化》  \n",
    "&emsp;&emsp;辅：《Python编程：从入门到实践》、菜鸟教程    \n",
    "②编程IDE：Pycharm  \n",
    "③代码说明文档编写：Jupyter Notebook\n",
    "\n",
    "\n",
    "---\n",
    "## 二、学习要求：(在第三部分练习代码实操中并未完全体现，但大部分都会接触到，以主要参考书籍的学习为准)  \n",
    " \n",
    "正则表达式re  \n",
    "os模块  \n",
    "datetime模块  \n",
    "http请求  \n",
    "\n",
    "【作业构想】  \n",
    "请用户输入一个时间，输出选项所对应的现在时间，告诉用户这两个时间相隔的天数，小时数，分钟数和秒数。  \n",
    "请用户输入电话及邮箱，判断用户输入是否合法。  \n",
    "对http://www.baidu.com   进行请求，并用正则化匹配图片内容。将百度图标爬取下来保存至本地  \n",
    "\n",
    "---\n",
    "## 三、练习代码实操： \n",
    "### 1.正则表达式  \n",
    "正则表达式是一个特殊的字符序列，它能帮助你方便的检查一个字符串是否与某种模式匹配。  \n",
    "re 模块使 Python 语言拥有全部的正则表达式功能。提供了与这些方法功能完全一致的函数，这些函数使用一个模式字符串做为它们的第一个参数。\n",
    "#### 1.1 re.match函数\n",
    "\n",
    "re.match 尝试从字符串的起始位置匹配一个模式，如果不是起始位置匹配成功的话，match()就返回none。"
   ]
  },
  {
   "cell_type": "code",
   "execution_count": 1,
   "metadata": {},
   "outputs": [
    {
     "ename": "NameError",
     "evalue": "name 're' is not defined",
     "output_type": "error",
     "traceback": [
      "\u001b[1;31m---------------------------------------------------------------------------\u001b[0m",
      "\u001b[1;31mNameError\u001b[0m                                 Traceback (most recent call last)",
      "\u001b[1;32m<ipython-input-1-1d154e9625a9>\u001b[0m in \u001b[0;36m<module>\u001b[1;34m\u001b[0m\n\u001b[1;32m----> 1\u001b[1;33m \u001b[0mre\u001b[0m\u001b[1;33m.\u001b[0m\u001b[0mmatch\u001b[0m\u001b[1;33m(\u001b[0m\u001b[0mpattern\u001b[0m\u001b[1;33m,\u001b[0m \u001b[0mstring\u001b[0m\u001b[1;33m,\u001b[0m \u001b[0mflags\u001b[0m\u001b[1;33m=\u001b[0m\u001b[1;36m0\u001b[0m\u001b[1;33m)\u001b[0m\u001b[1;33m\u001b[0m\u001b[1;33m\u001b[0m\u001b[0m\n\u001b[0m",
      "\u001b[1;31mNameError\u001b[0m: name 're' is not defined"
     ]
    }
   ],
   "source": [
    "re.match(pattern, string, flags=0)"
   ]
  },
  {
   "cell_type": "markdown",
   "metadata": {},
   "source": [
    "参数 |描述\n",
    "---|---\n",
    "pattern | 匹配的正则表达式\n",
    "string |要匹配的字符串。\n",
    "flags|标志位，用于控制正则表达式的匹配方式，如：是否区分大小写，多行匹配等\n",
    "匹配成功re.match方法返回一个匹配的对象，否则返回None。\n"
   ]
  },
  {
   "cell_type": "code",
   "execution_count": null,
   "metadata": {},
   "outputs": [],
   "source": [
    "import re\n",
    "print(re.match('www', 'www.runoob.com').span())  # 在起始位置匹配\n",
    "print(re.match('com', 'www.runoob.com'))         # 不在起始位置匹配"
   ]
  },
  {
   "cell_type": "markdown",
   "metadata": {},
   "source": [
    "在正则表达式中，如果直接给出字符，就是精确匹配。用\n",
    "==\\d==可以匹配一个数字，\n",
    "==\\\\w==可以匹配一个字母或数字，所以：\n",
    "#### 1.2 创建正则表达式对象\n",
    "Python 中所有正则表达式的函数都在 re 模块中。在交互式环境中输入以下代码， 导入该模块：\n"
   ]
  },
  {
   "cell_type": "code",
   "execution_count": null,
   "metadata": {},
   "outputs": [],
   "source": [
    "import re"
   ]
  },
  {
   "cell_type": "markdown",
   "metadata": {},
   "source": [
    "```\n",
    "向 re.compile()传入一个字符串值，表示正则表达式，它将返回一个 Regex 模式对象（或者就简称为 Regex 对象）。  要创建一个 Regex对象来匹配电话号码模式，就在交互式环境中输入以下代码\n"
   ]
  },
  {
   "cell_type": "code",
   "execution_count": null,
   "metadata": {},
   "outputs": [],
   "source": [
    "phoneNumRegex = re.compile(r'\\d\\d\\d-\\d\\d\\d-\\d\\d\\d\\d')"
   ]
  },
  {
   "cell_type": "markdown",
   "metadata": {},
   "source": [
    "\n",
    "现在 phoneNumRegex 变量包含了一个 Regex 对象。\n",
    "#### 1.3 匹配 Regex 对象\n",
    "Regex 对象的 search()方法查找传入的字符串， 寻找该正则表达式的所有匹配。  \n",
    "如果字符串中没有找到该正则表达式模式， search()方法将返回 None。如果找到了该模式，\n",
    "search()方法将返回一个 Match 对象。"
   ]
  },
  {
   "cell_type": "code",
   "execution_count": null,
   "metadata": {},
   "outputs": [],
   "source": [
    "phoneNumRegex = re.compile(r'\\d\\d\\d-\\d\\d\\d-\\d\\d\\d\\d')\n",
    "mo = phoneNumRegex.search('My number is 415-555-4242.')\n",
    "print('Phone number found: ' + mo.group())"
   ]
  },
  {
   "cell_type": "code",
   "execution_count": null,
   "metadata": {},
   "outputs": [],
   "source": [
    "# 输出\n",
    "Phone number found: 415-555-4242"
   ]
  },
  {
   "cell_type": "markdown",
   "metadata": {},
   "source": [
    "Python 中转义字符使用倒斜杠（\\）。字符串'\\n'表示一个换行字符，而不是倒斜杠加上一个小写的n。需要输入转义字符\\\\，才能打印出一个倒斜杠。\n",
    "\n",
    "1. 用 import re 导入正则表达式模块。  \n",
    "2. 用 re.compile()函数创建一个Regex对象（记得使用原始字符串）。  \n",
    "3. 向 Regex 对象的search()方法传入想查找的字符串。它返回一个 Match 对象。    \n",
    "4. 调用 Match 对象的group()方法，返回实际匹配文本的字符串。    \n",
    "\n",
    "#### 1.4 利用括号分组\n",
    "假定想要将区号从电话号码中分离。添加括号将在正则表达式中创建“分组”：(\\d\\d\\d)-(\\d\\d\\d-\\d\\d\\d\\d)。然后可以使用 group()匹配对象方法，从一个分组中获取匹配的文本。\n"
   ]
  },
  {
   "cell_type": "code",
   "execution_count": null,
   "metadata": {},
   "outputs": [],
   "source": [
    ">>> phoneNumRegex = re.compile(r'(\\d\\d\\d)-(\\d\\d\\d-\\d\\d\\d\\d)')\n",
    ">>> mo = phoneNumRegex.search('My number is 415-555-4242.')\n",
    ">>> mo.group(1)\n",
    ">>> mo.group(2)\n",
    "'555-4242'\n",
    ">>> mo.group(0)\n",
    "'415-555-4242'\n",
    ">>> mo.group()\n",
    "'415-555-4242'"
   ]
  },
  {
   "cell_type": "markdown",
   "metadata": {},
   "source": [
    "\n",
    "如果想要一次就获取所有的分组， 请使用 groups()方法， 注意函数名的复数形式。\n"
   ]
  },
  {
   "cell_type": "code",
   "execution_count": null,
   "metadata": {},
   "outputs": [],
   "source": [
    ">>> mo.groups()\n",
    "('415', '555-4242')\n",
    ">>> areaCode, mainNumber = mo.groups()\n",
    ">>> print(areaCode)\n",
    "415\n",
    ">>> print(mainNumber)\n",
    "555-4242"
   ]
  },
  {
   "cell_type": "markdown",
   "metadata": {},
   "source": [
    "\n",
    "因为 mo.groups()返回多个值的元组， 所以你可以使用多重复制的技巧， 每个值\n",
    "赋给一个独立的变量"
   ]
  },
  {
   "cell_type": "code",
   "execution_count": null,
   "metadata": {},
   "outputs": [],
   "source": [
    ">>> phoneNumRegex = re.compile(r'(\\(\\d\\d\\d\\)) (\\d\\d\\d-\\d\\d\\d\\d)')\n",
    ">>> mo = phoneNumRegex.search('My phone number is (415) 555-4242.')\n",
    ">>> mo.group(1)\n",
    "'(415)'\n",
    ">>> mo.group(2)\n",
    "'555-4242'"
   ]
  },
  {
   "cell_type": "markdown",
   "metadata": {},
   "source": [
    "\n",
    "传递给 re.compile()的原始字符串中， \\(和\\)转义字符将匹配实际的括号字符。\n",
    "#### 1.5 用管道匹配多个分组\n",
    "字符|称为“管道”。希望匹配许多表达式中的一个时， 就可以使用它。"
   ]
  },
  {
   "cell_type": "code",
   "execution_count": null,
   "metadata": {},
   "outputs": [],
   "source": [
    ">>> heroRegex = re.compile (r'Batman|Tina Fey')\n",
    ">>> mo1 = heroRegex.search('Batman and Tina Fey.')\n",
    ">>> mo1.group()\n",
    "'Batman'\n",
    ">>> mo2 = heroRegex.search('Tina Fey and Batman.')\n",
    ">>> mo2.group()\n",
    "'Tina Fey'"
   ]
  },
  {
   "cell_type": "markdown",
   "metadata": {},
   "source": [
    "注意 利用 findall()方法，可以找到“所有”匹配的地方"
   ]
  },
  {
   "cell_type": "code",
   "execution_count": null,
   "metadata": {},
   "outputs": [],
   "source": [
    ">>> batRegex = re.compile(r'Bat(man|mobile|copter|bat)')\n",
    ">>> mo = batRegex.search('Batmobile lost a wheel')\n",
    ">>> mo.group()\n",
    "'Batmobile'\n",
    ">>> mo.group(1)\n",
    "'mobile'"
   ]
  },
  {
   "cell_type": "markdown",
   "metadata": {},
   "source": [
    "\n",
    "方法调用 mo.group()返回了完全匹配的文本'Batmobile'， 而 mo.group(1)只是返回第一个括号分组内匹配的文本'mobile'。通过使用管道字符和分组括号， 可以指定几种可选的模式， 让正则表达式去匹配。\n",
    "#### 1.6 用问号实现可选匹配\n",
    "字符?表明它前面的分组在这个模式中是可选的。"
   ]
  },
  {
   "cell_type": "code",
   "execution_count": null,
   "metadata": {},
   "outputs": [],
   "source": [
    ">>> batRegex = re.compile(r'Bat(wo)?man')\n",
    ">>> mo1 = batRegex.search('The Adventures of Batman')\n",
    ">>> mo1.group()\n",
    "'Batman'\n",
    ">>> mo2 = batRegex.search('The Adventures of Batwoman')\n",
    ">>> mo2.group()\n",
    "'Batwoman'"
   ]
  },
  {
   "cell_type": "markdown",
   "metadata": {},
   "source": [
    "\n",
    "正则表达式中的(wo)?部分表明， 模式 wo 是可选的分组。该正则表达式匹配的文本\n",
    "中， wo 将出现零次或一次。\n"
   ]
  },
  {
   "cell_type": "code",
   "execution_count": null,
   "metadata": {},
   "outputs": [],
   "source": [
    ">>> phoneRegex = re.compile(r'(\\d\\d\\d-)?\\d\\d\\d-\\d\\d\\d\\d')\n",
    ">>> mo1 = phoneRegex.search('My number is 415-555-4242')\n",
    ">>> mo1.group()\n",
    "'415-555-4242'\n",
    ">>> mo2 = phoneRegex.search('My number is 555-4242')\n",
    ">>> mo2.group()\n",
    "'555-4242'"
   ]
  },
  {
   "cell_type": "markdown",
   "metadata": {},
   "source": [
    "\n",
    "#### 1.7 用星号匹配零次或多次\n",
    "*（称为星号）意味着“匹配零次或多次”\n"
   ]
  },
  {
   "cell_type": "code",
   "execution_count": null,
   "metadata": {},
   "outputs": [],
   "source": [
    ">>> batRegex = re.compile(r'Bat(wo)*man')\n",
    ">>> mo1 = batRegex.search('The Adventures of Batman')\n",
    ">>> mo1.group()\n",
    "'Batman'\n",
    ">>> mo2 = batRegex.search('The Adventures of Batwoman')\n",
    ">>> mo2.group()\n",
    "'Batwoman'\n",
    ">>> mo3 = batRegex.search('The Adventures of Batwowowowoman')\n",
    ">>> mo3.group()\n",
    "'Batwowowowoman'"
   ]
  },
  {
   "cell_type": "markdown",
   "metadata": {},
   "source": [
    "\n",
    "对于'Batman'， 正则表达式的(wo)*部分匹配 wo 的零个实例。对于'Batwoman'，(wo)*匹配 wo 的一个实例。对于'Batwowowowoman'， (wo)*匹配 wo 的 4 个实例。\n",
    "\n",
    "\n",
    "#### 1.8用加号匹配一次或多次\n",
    "==*意味着“匹配零次或多次”==  \n",
    "\n",
    "==+（加号）则意味着“匹配一次或多次”==  \n",
    "\n",
    "星号不要求分组出现在匹配的字符串中， 但加号不同， 加号前面的分组必须“至少出现一次”。这不是可选的。\n"
   ]
  },
  {
   "cell_type": "code",
   "execution_count": null,
   "metadata": {},
   "outputs": [],
   "source": [
    ">>> batRegex = re.compile(r'Bat(wo)+man')\n",
    ">>> mo1 = batRegex.search('The Adventures of Batwoman')\n",
    ">>> mo1.group()\n",
    "'Batwoman'\n",
    ">>> mo2 = batRegex.search('The Adventures of Batwowowowoman')\n",
    ">>> mo2.group()\n",
    "'Batwowowowoman'\n",
    ">>> mo3 = batRegex.search('The Adventures of Batman')\n",
    ">>> mo3 == None\n",
    "True"
   ]
  },
  {
   "cell_type": "markdown",
   "metadata": {},
   "source": [
    "\n",
    "#### 1.9用花括号匹配特定次数\n",
    "如果想要一个分组重复特定次数，就在正则表达式中该分组的后面，跟上花括号包围的数字。\n"
   ]
  },
  {
   "cell_type": "code",
   "execution_count": null,
   "metadata": {},
   "outputs": [],
   "source": [
    "```\n",
    "(Ha){3}\n",
    "(Ha)(Ha)(Ha)"
   ]
  },
  {
   "cell_type": "markdown",
   "metadata": {},
   "source": [
    "这两个正则表达式也匹配同样的模式：\n"
   ]
  },
  {
   "cell_type": "code",
   "execution_count": null,
   "metadata": {},
   "outputs": [],
   "source": [
    "(Ha){3,5}\n",
    "((Ha)(Ha)(Ha))|((Ha)(Ha)(Ha)(Ha))|((Ha)(Ha)(Ha)(Ha)(Ha))"
   ]
  },
  {
   "cell_type": "markdown",
   "metadata": {},
   "source": [
    "在交互式环境中输入以下代码："
   ]
  },
  {
   "cell_type": "code",
   "execution_count": null,
   "metadata": {},
   "outputs": [],
   "source": [
    ">>> haRegex = re.compile(r'(Ha){3}')\n",
    ">>> mo1 = haRegex.search('HaHaHa')\n",
    ">>> mo1.group()\n",
    "'HaHaHa'\n",
    ">>> mo2 = haRegex.search('Ha')\n",
    ">>> mo2 == None\n",
    "True"
   ]
  },
  {
   "cell_type": "markdown",
   "metadata": {},
   "source": [
    "\n",
    "这里， (Ha){3}匹配'HaHaHa'，但不匹配'Ha'。因为它不匹配'Ha'，所以 search()返回 None。\n",
    "### 2.os模块（部分）\n",
    "#### 2.1 os.access() 方法\n",
    "access()方法语法格式如下："
   ]
  },
  {
   "cell_type": "code",
   "execution_count": null,
   "metadata": {},
   "outputs": [],
   "source": [
    "os.access(path, mode);"
   ]
  },
  {
   "cell_type": "markdown",
   "metadata": {},
   "source": [
    "\n",
    "**参数** \n",
    "- path -- 要用来检测是否有访问权限的路径。  \n",
    "- mode -- mode为F_OK，测试存在的路径，或者它可以是包含R_OK, W_OK和X_OK或者R_OK, W_OK和X_OK其中之一或者更多。  \n",
    "- os.F_OK: 作为access()的mode参数，测试path是否存在。  \n",
    "- os.R_OK: 包含在access()的mode参数中 ， 测试path是否可读。  \n",
    "- os.W_OK 包含在access()的mode参数中 ， 测试path是否可写。  \n",
    "- os.X_OK 包含在access()的mode参数中 ，测试path是否可执行。\n",
    "\n",
    "**返回值**  \n",
    "如果允许访问返回 True , 否则返回False。\n",
    "#### 2.2 os.chdir()\n",
    "**概述**  \n",
    "os.chdir() 方法用于改变当前工作目录到指定的路径。  \n",
    "**语法**"
   ]
  },
  {
   "cell_type": "code",
   "execution_count": 2,
   "metadata": {},
   "outputs": [
    {
     "ename": "NameError",
     "evalue": "name 'os' is not defined",
     "output_type": "error",
     "traceback": [
      "\u001b[1;31m---------------------------------------------------------------------------\u001b[0m",
      "\u001b[1;31mNameError\u001b[0m                                 Traceback (most recent call last)",
      "\u001b[1;32m<ipython-input-2-c85682508eb9>\u001b[0m in \u001b[0;36m<module>\u001b[1;34m\u001b[0m\n\u001b[1;32m----> 1\u001b[1;33m \u001b[0mos\u001b[0m\u001b[1;33m.\u001b[0m\u001b[0mchdir\u001b[0m\u001b[1;33m(\u001b[0m\u001b[0mpath\u001b[0m\u001b[1;33m)\u001b[0m\u001b[1;33m\u001b[0m\u001b[1;33m\u001b[0m\u001b[0m\n\u001b[0m",
      "\u001b[1;31mNameError\u001b[0m: name 'os' is not defined"
     ]
    }
   ],
   "source": [
    "os.chdir(path)"
   ]
  },
  {
   "cell_type": "markdown",
   "metadata": {},
   "source": [
    "\n",
    "**参数**  \n",
    "path -- 要切换到的新路径。  \n",
    "**返回值**  \n",
    "如果允许访问返回 True , 否则返回False。  \n",
    "#### 2.3 os.read()\n",
    "**概述**  \n",
    "os.read() 方法用于从文件描述符 fd 中读取最多 n 个字节，返回包含读取字节的字符串，文件描述符 fd对应文件已达到结尾, 返回一个空字符串。  \n",
    "\n",
    "在Unix，Windows中有效  \n",
    "**语法**  "
   ]
  },
  {
   "cell_type": "code",
   "execution_count": null,
   "metadata": {},
   "outputs": [],
   "source": [
    "os.read(fd,n)"
   ]
  },
  {
   "cell_type": "markdown",
   "metadata": {},
   "source": [
    "\n",
    "**参数**  \n",
    "- fd -- 文件描述符。  \n",
    "- n -- 读取的字节。  \n",
    "\n",
    "**返回值**  \n",
    "返回包含读取字节的字符串  \n",
    "\n",
    "### 3.datetime模块  \n",
    "通过导入 datetime 模块来获取昨天的日期：\n"
   ]
  },
  {
   "cell_type": "code",
   "execution_count": null,
   "metadata": {},
   "outputs": [],
   "source": [
    "# 引入 datetime 模块\n",
    "import datetime\n",
    "def getYesterday(): \n",
    "    today=datetime.date.today() \n",
    "    oneday=datetime.timedelta(days=1) \n",
    "    yesterday=today-oneday  \n",
    "    return yesterday\n",
    " \n",
    "# 输出\n",
    "print(getYesterday())"
   ]
  },
  {
   "cell_type": "markdown",
   "metadata": {},
   "source": [
    "\n",
    "### 4.http请求 \n",
    "\n",
    "序号|方法|描述  \n",
    "---|---|---  \n",
    "1|\tGET\t|请求指定的页面信息，并返回实体主体。\n",
    "2|\tHEAD|\t类似于get请求，只不过返回的响应中没有具体的内容，用于获取报头\n",
    "3|\tPOST|\t向指定资源提交数据进行处理请求（例如提交表单或者上传文件）。数据被包含在请求体中。POST请求可能会导致新的资源的建立和/或已有资源的修改。\n",
    "4|\tPUT\t|从客户端向服务器传送的数据取代指定的文档的内容。\n",
    "5|\tDELETE\t|请求服务器删除指定的页面。\n",
    "6|\tCONNECT|\tHTTP/1.1协议中预留给能够将连接改为管道方式的代理服务器。\n",
    "7|\tOPTIONS\t|允许客户端查看服务器的性能。\n",
    "8|\tTRACE|\t回显服务器收到的请求，主要用于测试或诊断。\n",
    "\n",
    "---\n",
    "\n",
    "### 四、作业代码\n",
    "\n",
    "> 1.请用户输入一个时间，输出选项所对应的现在时间，告诉用户这两个时间相隔的天数，小时数，分钟数和秒数。\n"
   ]
  },
  {
   "cell_type": "code",
   "execution_count": null,
   "metadata": {},
   "outputs": [],
   "source": [
    "import time\n",
    "from datetime import datetime, timedelta\n",
    "\n",
    "# 格式化成Wed Jan 30 20:42:08 2019形式\n",
    "print (time.strftime(\"%a %b %d %H:%M:%S %Y\", time.localtime()))\n",
    "\n",
    "InputTime=input('请按%Y-%m-%d %H:%M:%S格式输入日期')\n",
    "cday = datetime.strptime(InputTime, '%Y-%m-%d %H:%M:%S')\n",
    "print(cday)\n",
    "\n",
    "# datetime加减\n",
    "now = datetime.now()\n",
    "Dv=now.timestamp()-cday.timestamp()\n",
    "\n",
    "print(\"现在离输入的时间相差%d天，%d时，%d分，%d秒\"%(Dv/(24*3600),Dv%(24*3600)/3600,Dv%3600/60,Dv%60))"
   ]
  },
  {
   "cell_type": "markdown",
   "metadata": {},
   "source": [
    "> 2.请用户输入电话及邮箱，判断用户输入是否合法。"
   ]
  },
  {
   "cell_type": "code",
   "execution_count": null,
   "metadata": {},
   "outputs": [],
   "source": [
    "import re\n",
    "# 正则匹配电话号\n",
    "phoneNumber=input('请输入你的电话号码！')\n",
    "p= re.compile(r'1[3,4,5,7,8]\\d{9}')\n",
    "phonematch = re.match(p,phoneNumber)\n",
    "\n",
    "if phonematch:\n",
    "    print(phonematch.group())\n",
    "else:\n",
    "    print(\"电话输入有误!\")\n",
    "\n",
    "\n",
    "# 正则匹配邮箱号\n",
    "EmailNumber=input('请输入你的邮箱号码！')\n",
    "e= re.compile(r\"^\\w+([-+.]\\w+)*@\\w+([-.]\\w+)*\\.\\w+([-.]\\w+)*$\")\n",
    "Emailmatch = re.match(e,EmailNumber)\n",
    "\n",
    "if Emailmatch:\n",
    "    print(Emailmatch.group())\n",
    "else:\n",
    "    print(\"邮箱输入有误!\")"
   ]
  },
  {
   "cell_type": "markdown",
   "metadata": {},
   "source": [
    "> 3.对http://www.baidu.com进行请求，并用正则化匹配图片内容。将百度图标爬取下来保存至本地"
   ]
  },
  {
   "cell_type": "code",
   "execution_count": null,
   "metadata": {},
   "outputs": [],
   "source": []
  }
 ],
 "metadata": {
  "kernelspec": {
   "display_name": "Python 3",
   "language": "python",
   "name": "python3"
  },
  "language_info": {
   "codemirror_mode": {
    "name": "ipython",
    "version": 3
   },
   "file_extension": ".py",
   "mimetype": "text/x-python",
   "name": "python",
   "nbconvert_exporter": "python",
   "pygments_lexer": "ipython3",
   "version": "3.7.1"
  }
 },
 "nbformat": 4,
 "nbformat_minor": 2
}
