{
 "cells": [
  {
   "cell_type": "markdown",
   "metadata": {},
   "source": [
    "#!/usr/bin/env python  \n",
    "#-*- coding:utf-8 -*-\n",
    "\n",
    "# 见枫的Python学习Day2-2019.1.26  \n",
    "## 一、学前准备\n",
    "①书籍参考:  \n",
    "&emsp;&emsp;主：《Python编程快速上手——让繁琐的工作自动化》  \n",
    "&emsp;&emsp;辅：《Python编程：从入门到实践》、菜鸟教程    \n",
    "②编程IDE：Pycharm  \n",
    "③代码说明文档编写：Jupyter Notebook\n",
    "\n",
    "---\n",
    "## 二、学习要求：(在第三部分练习代码实操中并未完全体现，但大部分都会接触到，以主要参考书籍的学习为准)  \n",
    "1.基础    \n",
    "&emsp;&emsp;列表  \n",
    "&emsp;&emsp;标志       \n",
    "&emsp;&emsp;基本操作(创建，append( )，pop( ) ,del( ),深浅拷贝）  \n",
    "&emsp;&emsp;列表相关方法    \n",
    "&emsp;&emsp;元组  \n",
    "&emsp;&emsp;标志  \n",
    "2.基本操作（创建及不可变性）  \n",
    "&emsp;&emsp;提升  \n",
    "&emsp;&emsp;序列类型，相互转换及方法  \n",
    "【作业构想】  \n",
    "&emsp;&emsp;学习代码200-300行  \n",
    "&emsp;&emsp;定义一个列表，包含自己的家庭成员，并在指定位置插入给定元素，例如你的男女朋友名称等。再将男女朋友名字移除等操作。  \n",
    "\n",
    "\n",
    "\n",
    "---\n",
    "## 三、练习代码实操"
   ]
  },
  {
   "cell_type": "markdown",
   "metadata": {},
   "source": [
    "### 2.1 列表数据类型\n",
    "> “列表”是一个值，它包含多个字构成的序列。术语“列表值” 指的是列表本\n",
    "> 身（它作为一个值，可以保存在变量中， 或传递给函数， 像所有其他值一样），而\n",
    "> 不是指列表值之内的那些值。列表值看起来像这样： ['cat', 'bat','rat', 'elephant']。就\n",
    "> 像字符串值用引号来标记字符串的起止一样，列表用左方括号开始，右方括号结束，\n",
    "> 即[ ]。列表中的值也称为“表项”。表项用==逗号分隔==。  "
   ]
  },
  {
   "cell_type": "code",
   "execution_count": 22,
   "metadata": {},
   "outputs": [
    {
     "data": {
      "text/plain": [
       "['cat', 'bat', 'rat', 'elephant']"
      ]
     },
     "execution_count": 22,
     "metadata": {},
     "output_type": "execute_result"
    }
   ],
   "source": [
    "spam = ['cat', 'bat', 'rat', 'elephant']\n",
    "\n",
    "# 输出\n",
    "spam\n",
    "['cat', 'bat', 'rat', 'elephant']"
   ]
  },
  {
   "cell_type": "markdown",
   "metadata": {},
   "source": [
    "#### 2.1.1 用下标取得列表中的单个值\n",
    "Attention：  \n",
    "1. 在获取单个值的时候要注意是从0开始而不是1\n",
    "2. 下标只能是整数， 不能是浮点值\n",
    "3. 使用的下标不可超出了列表中值的个数"
   ]
  },
  {
   "cell_type": "code",
   "execution_count": 27,
   "metadata": {},
   "outputs": [
    {
     "data": {
      "text/plain": [
       "'cat'"
      ]
     },
     "execution_count": 27,
     "metadata": {},
     "output_type": "execute_result"
    }
   ],
   "source": [
    "spam = ['cat', 'bat', 'rat', 'elephant']\n",
    "\n",
    "#输出\n",
    "spam[0]\n",
    "'cat'"
   ]
  },
  {
   "cell_type": "markdown",
   "metadata": {},
   "source": [
    "> 列表也可以包含其他列表值。这些列表的列表中的值， 可以通过多重下标来访问\n"
   ]
  },
  {
   "cell_type": "code",
   "execution_count": 23,
   "metadata": {},
   "outputs": [
    {
     "data": {
      "text/plain": [
       "'bat'"
      ]
     },
     "execution_count": 23,
     "metadata": {},
     "output_type": "execute_result"
    }
   ],
   "source": [
    "spam = [['cat', 'bat'], [10, 20, 30, 40, 50]]\n",
    "# 输出\n",
    "spam[0]\n",
    ">>>['cat', 'bat']\n",
    "spam[0][1]\n",
    "'bat'"
   ]
  },
  {
   "cell_type": "markdown",
   "metadata": {},
   "source": [
    "#### 2.1.2 负数下标\n",
    "> 虽然下标从 0 开始并向上增长，但也可以用负整数作为下标。整数值−1 指的是\n",
    "> 列表中的最后一个下标， −2 指的是列表中倒数第二个下标， 以此类推。\n"
   ]
  },
  {
   "cell_type": "code",
   "execution_count": 7,
   "metadata": {},
   "outputs": [
    {
     "data": {
      "text/plain": [
       "'elephant'"
      ]
     },
     "execution_count": 7,
     "metadata": {},
     "output_type": "execute_result"
    }
   ],
   "source": [
    ">>> spam = ['cat', 'bat', 'rat', 'elephant']\n",
    "\n",
    "# 输出\n",
    ">>> spam[-1]\n",
    "'elephant'"
   ]
  },
  {
   "cell_type": "markdown",
   "metadata": {},
   "source": [
    "#### 2.1.3 切片\n",
    "> “切片” 可以从列表中取得多个值，结果是一个新列表。切片输入在一对方括号中，像下标一样， 但它有两个冒号分隔的整数。请注意下标和切片的不同。\n",
    "- spam[2]是一个列表和下标（一个整数）。\n",
    "- spam[1:4]是一个列表和切片（两个整数）。  \n",
    "\n",
    " 在一个切片中，第一个整数是切片开始处的下标。第二个整数是切片结束处的下标。切片从前往后，直至第二个下标的值，==但不包括它==。\n"
   ]
  },
  {
   "cell_type": "code",
   "execution_count": 26,
   "metadata": {},
   "outputs": [
    {
     "data": {
      "text/plain": [
       "['cat', 'bat', 'rat', 'elephant']"
      ]
     },
     "execution_count": 26,
     "metadata": {},
     "output_type": "execute_result"
    }
   ],
   "source": [
    "spam = ['cat', 'bat', 'rat', 'elephant']\n",
    "\n",
    "# 输出\n",
    "spam[0:4]\n",
    "['cat', 'bat', 'rat', 'elephant']\n",
    "spam[0:-1]\n",
    "['cat', 'bat', 'rat']\n",
    "spam[1:]\n",
    "['bat', 'rat', 'elephant']\n",
    "spam[:]\n",
    "['cat', 'bat', 'rat', 'elephant']"
   ]
  },
  {
   "cell_type": "markdown",
   "metadata": {},
   "source": [
    "#### 2.1.5 用下标改变列表中的值\n",
    "spam[1] = 'aardvark'意味着“将列表 spam 下\n",
    "标 1 处的值赋值为字符串'aardvark'"
   ]
  },
  {
   "cell_type": "code",
   "execution_count": 20,
   "metadata": {},
   "outputs": [
    {
     "data": {
      "text/plain": [
       "['cat', 'aardvark', 'rat', 'elephant']"
      ]
     },
     "execution_count": 20,
     "metadata": {},
     "output_type": "execute_result"
    }
   ],
   "source": [
    "spam = ['cat', 'bat', 'rat', 'elephant']\n",
    "\n",
    "# 输出\n",
    "spam[1] = 'aardvark'\n",
    "spam\n",
    "['cat', 'aardvark', 'rat', 'elephant']"
   ]
  },
  {
   "cell_type": "markdown",
   "metadata": {},
   "source": [
    "列表可以像字符串一样进行加乘连接"
   ]
  },
  {
   "cell_type": "code",
   "execution_count": 10,
   "metadata": {},
   "outputs": [
    {
     "data": {
      "text/plain": [
       "['X', 'Y', 'Z', 'X', 'Y', 'Z', 'X', 'Y', 'Z']"
      ]
     },
     "execution_count": 10,
     "metadata": {},
     "output_type": "execute_result"
    }
   ],
   "source": [
    ">>> [1, 2, 3] + ['A', 'B', 'C']\n",
    "[1, 2, 3, 'A', 'B', 'C']\n",
    ">>> ['X', 'Y', 'Z'] * 3\n",
    "['X', 'Y', 'Z', 'X', 'Y', 'Z', 'X', 'Y', 'Z']"
   ]
  },
  {
   "cell_type": "markdown",
   "metadata": {},
   "source": [
    "#### 2.1.6 用 del 语句从列表中删除值\n",
    "del 语句将删除列表中下标处的值，表中被删除值后面的所有值，都将向前移动一个下标。 "
   ]
  },
  {
   "cell_type": "code",
   "execution_count": 21,
   "metadata": {},
   "outputs": [
    {
     "data": {
      "text/plain": [
       "['cat', 'bat', 'elephant']"
      ]
     },
     "execution_count": 21,
     "metadata": {},
     "output_type": "execute_result"
    }
   ],
   "source": [
    "spam = ['cat', 'bat', 'rat', 'elephant']\n",
    "\n",
    "# 输出\n",
    "del spam[2]\n",
    "spam\n",
    "['cat', 'bat', 'elephant']"
   ]
  },
  {
   "cell_type": "markdown",
   "metadata": {},
   "source": [
    "#### Tips：多重赋值技巧"
   ]
  },
  {
   "cell_type": "code",
   "execution_count": 12,
   "metadata": {},
   "outputs": [],
   "source": [
    "cat = ['fat', 'black', 'loud']\n",
    "size, color, disposition = cat"
   ]
  },
  {
   "cell_type": "markdown",
   "metadata": {},
   "source": [
    "### 2.2 列表使用方法\n",
    "\n",
    "#### 2.2.1 用 index()方法在列表中查找值\n",
    "列表值有一个 index()方法， 可以传入一个值，如果该值存在于列表中，就返回它的下标。如果列表中存在==重复==的值， 就返回它==第一次==出现的下标"
   ]
  },
  {
   "cell_type": "code",
   "execution_count": 13,
   "metadata": {},
   "outputs": [
    {
     "data": {
      "text/plain": [
       "0"
      ]
     },
     "execution_count": 13,
     "metadata": {},
     "output_type": "execute_result"
    }
   ],
   "source": [
    ">>> spam = ['hello', 'hi', 'howdy', 'heyas']\n",
    ">>> spam.index('hello')"
   ]
  },
  {
   "cell_type": "markdown",
   "metadata": {},
   "source": [
    "#### 2.2.2 用 append()和 insert()方法在列表中添加值（pop用法同append不再赘述）\n",
    "前面的 append()方法调用， 将参数添加到列表末尾。insert()方法可以在列表任意下标处插入一个值。 insert()方法的第一个参数是新值的下标， 第二个参数是要插入的新值。 append()和 insert()方法是列表方法， 只能在列表上调用， 不能在其他值上调用，例如字符串和整型。   \n",
    "**1° append用法**"
   ]
  },
  {
   "cell_type": "code",
   "execution_count": 14,
   "metadata": {},
   "outputs": [
    {
     "data": {
      "text/plain": [
       "['cat', 'dog', 'bat', 'moose']"
      ]
     },
     "execution_count": 14,
     "metadata": {},
     "output_type": "execute_result"
    }
   ],
   "source": [
    ">>> spam = ['cat', 'dog', 'bat']\n",
    ">>> spam.append('moose')\n",
    ">>> spam\n",
    "['cat', 'dog', 'bat', 'moose']"
   ]
  },
  {
   "cell_type": "markdown",
   "metadata": {},
   "source": [
    "**2° insert用法**"
   ]
  },
  {
   "cell_type": "code",
   "execution_count": 15,
   "metadata": {},
   "outputs": [
    {
     "data": {
      "text/plain": [
       "['cat', 'chicken', 'dog', 'bat']"
      ]
     },
     "execution_count": 15,
     "metadata": {},
     "output_type": "execute_result"
    }
   ],
   "source": [
    ">>> spam = ['cat', 'dog', 'bat']\n",
    ">>> spam.insert(1, 'chicken')\n",
    ">>> spam\n",
    "['cat', 'chicken', 'dog', 'bat']"
   ]
  },
  {
   "cell_type": "markdown",
   "metadata": {},
   "source": [
    "#### 2.2.3 用 remove()方法从列表中删除值"
   ]
  },
  {
   "cell_type": "code",
   "execution_count": 16,
   "metadata": {},
   "outputs": [
    {
     "data": {
      "text/plain": [
       "['cat', 'rat', 'elephant']"
      ]
     },
     "execution_count": 16,
     "metadata": {},
     "output_type": "execute_result"
    }
   ],
   "source": [
    ">>> spam = ['cat', 'bat', 'rat', 'elephant']\n",
    ">>> spam.remove('bat')\n",
    ">>> spam\n",
    "['cat', 'rat', 'elephant']"
   ]
  },
  {
   "cell_type": "markdown",
   "metadata": {},
   "source": [
    "#### 2.2.4 用 sort()方法将列表中的值排序"
   ]
  },
  {
   "cell_type": "code",
   "execution_count": 17,
   "metadata": {},
   "outputs": [
    {
     "data": {
      "text/plain": [
       "[-7, 1, 2, 3.14, 5]"
      ]
     },
     "execution_count": 17,
     "metadata": {},
     "output_type": "execute_result"
    }
   ],
   "source": [
    ">>> spam = [2, 5, 3.14, 1, -7]\n",
    ">>> spam.sort()\n",
    ">>> spam\n",
    "[-7, 1, 2, 3.14, 5]"
   ]
  },
  {
   "cell_type": "markdown",
   "metadata": {},
   "source": [
    "也可以指定 reverse 关键字参数为 True， 让 sort()按逆序排序。在交互式环境中输入以下代码："
   ]
  },
  {
   "cell_type": "code",
   "execution_count": 18,
   "metadata": {},
   "outputs": [
    {
     "data": {
      "text/plain": [
       "['elephants', 'dogs', 'cats', 'badgers', 'ants']"
      ]
     },
     "execution_count": 18,
     "metadata": {},
     "output_type": "execute_result"
    }
   ],
   "source": [
    ">>> spam.sort(reverse=True)\n",
    ">>> spam\n",
    "['elephants', 'dogs', 'cats', 'badgers', 'ants']"
   ]
  },
  {
   "cell_type": "markdown",
   "metadata": {},
   "source": [
    " sort()方法对字符串排序时， 使用“ASCII 字符顺序”， 而不是实际的字典顺序。这意味着==大写字母排在小写字母之前==。\n",
    "    ### 3. 元组\n",
    "#### 3.1 元组数据类型\n",
    "元组输入时用圆括号()，而不是用方括号[]。但元组与列表的主要区别还在于，元组像字符串一样，是不可变的。==元组不能让它们的值被修改、添加或删除。=="
   ]
  },
  {
   "cell_type": "code",
   "execution_count": 19,
   "metadata": {},
   "outputs": [
    {
     "data": {
      "text/plain": [
       "3"
      ]
     },
     "execution_count": 19,
     "metadata": {},
     "output_type": "execute_result"
    }
   ],
   "source": [
    ">>> eggs = ('hello', 42, 0.5)\n",
    ">>> eggs[0]\n",
    "'hello'\n",
    ">>> eggs[1:3]\n",
    "(42, 0.5)\n",
    ">>> len(eggs)\n",
    "3"
   ]
  },
  {
   "cell_type": "markdown",
   "metadata": {},
   "source": [
    "**Tips**:如果元组中只有一个值， 你可以在括号内该值的后面跟上一个逗号， 表明这种情况。 "
   ]
  },
  {
   "cell_type": "code",
   "execution_count": null,
   "metadata": {},
   "outputs": [],
   "source": [
    "('hello',)"
   ]
  },
  {
   "cell_type": "markdown",
   "metadata": {},
   "source": [
    "#### 3.2 用 list()和 tuple()函数来转换类型\n",
    "正如 str(42)将返回'42'，即整数 42 的字符串表示形式， 函数 list()和 tuple()将返回传递给它们的值的列表和元组版本。\n"
   ]
  },
  {
   "cell_type": "code",
   "execution_count": 28,
   "metadata": {},
   "outputs": [
    {
     "data": {
      "text/plain": [
       "['h', 'e', 'l', 'l', 'o']"
      ]
     },
     "execution_count": 28,
     "metadata": {},
     "output_type": "execute_result"
    }
   ],
   "source": [
    "tuple(['cat', 'dog', 5])\n",
    "('cat', 'dog', 5)\n",
    "list(('cat', 'dog', 5))\n",
    "['cat', 'dog', 5]\n",
    "list('hello')\n",
    "['h', 'e', 'l', 'l', 'o']"
   ]
  },
  {
   "cell_type": "markdown",
   "metadata": {},
   "source": [
    "### 4. 引用\n",
    "当你将列表赋给一个变量时，实际上是将列表的“引用”赋给了该变量。引用是一个值，指向某些数据。列表引用是指向一个列表的值。"
   ]
  },
  {
   "cell_type": "code",
   "execution_count": 29,
   "metadata": {},
   "outputs": [
    {
     "data": {
      "text/plain": [
       "[0, 'Hello!', 2, 3, 4, 5]"
      ]
     },
     "execution_count": 29,
     "metadata": {},
     "output_type": "execute_result"
    }
   ],
   "source": [
    "spam = [0, 1, 2, 3, 4, 5]\n",
    "cheese = spam\n",
    "cheese[1] = 'Hello!'\n",
    "spam\n",
    "[0, 'Hello!', 2, 3, 4, 5]\n",
    "cheese\n",
    "[0, 'Hello!', 2, 3, 4, 5]"
   ]
  },
  {
   "cell_type": "markdown",
   "metadata": {},
   "source": [
    "#### 4.1 传递引用\n",
    "要理解参数如何传递给函数，引用就特别重要。当函数被调用时， 参数的值被复制给变元"
   ]
  },
  {
   "cell_type": "code",
   "execution_count": 32,
   "metadata": {},
   "outputs": [
    {
     "name": "stdout",
     "output_type": "stream",
     "text": [
      "[1, 2, 3, 'Hello']\n"
     ]
    }
   ],
   "source": [
    "def eggs(someParameter):\n",
    "    someParameter.append('Hello')\n",
    "spam = [1, 2, 3]\n",
    "eggs(spam)\n",
    "print(spam)"
   ]
  },
  {
   "cell_type": "markdown",
   "metadata": {},
   "source": [
    "#### 4.2 copy 模块的 copy()和 deepcopy()函数\n",
    "现在 spam 和 cheese 变量指向独立的列表， 这就是为什么当你将 42 赋给下标 7时， 只有 cheese 中的列表被改变。"
   ]
  },
  {
   "cell_type": "code",
   "execution_count": 31,
   "metadata": {},
   "outputs": [
    {
     "data": {
      "text/plain": [
       "['A', 42, 'C', 'D']"
      ]
     },
     "execution_count": 31,
     "metadata": {},
     "output_type": "execute_result"
    }
   ],
   "source": [
    "import copy\n",
    "spam = ['A', 'B', 'C', 'D']\n",
    "cheese = copy.copy(spam)\n",
    "cheese[1] = 42\n",
    "spam\n",
    "['A', 'B', 'C', 'D']\n",
    "cheese\n",
    "['A', 42, 'C', 'D']"
   ]
  },
  {
   "cell_type": "markdown",
   "metadata": {},
   "source": [
    "### 四、作业代码"
   ]
  },
  {
   "cell_type": "code",
   "execution_count": 34,
   "metadata": {
    "scrolled": true
   },
   "outputs": [
    {
     "name": "stdout",
     "output_type": "stream",
     "text": [
      "['Dad', 'Mom', 'Me', 'Girlfriend']\n",
      "['Dad', 'Mom', 'Me']\n"
     ]
    }
   ],
   "source": [
    "Family=['Dad','Mom','Me']\n",
    "Family.insert(3,'Girlfriend')\n",
    "print(Family)\n",
    "Family.pop(3)\n",
    "print(Family)"
   ]
  }
 ],
 "metadata": {
  "kernelspec": {
   "display_name": "Python 3",
   "language": "python",
   "name": "python3"
  },
  "language_info": {
   "codemirror_mode": {
    "name": "ipython",
    "version": 3
   },
   "file_extension": ".py",
   "mimetype": "text/x-python",
   "name": "python",
   "nbconvert_exporter": "python",
   "pygments_lexer": "ipython3",
   "version": "3.7.1"
  }
 },
 "nbformat": 4,
 "nbformat_minor": 2
}
