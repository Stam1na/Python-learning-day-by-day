{
 "cells": [
  {
   "cell_type": "markdown",
   "metadata": {},
   "source": [
    "#!/usr/bin/env python  \n",
    "#-*- coding:utf-8 -*-\n",
    "\n",
    "# 见枫的Python学习Day3-2019.1.27  \n",
    "## 一、学前准备\n",
    "①书籍参考:  \n",
    "&emsp;&emsp;主：《Python编程快速上手——让繁琐的工作自动化》  \n",
    "&emsp;&emsp;辅：《Python编程：从入门到实践》、菜鸟教程    \n",
    "②编程IDE：Pycharm  \n",
    "③代码说明文档编写：Jupyter Notebook\n",
    "\n",
    "---\n",
    "## 二、学习要求：(在第三部分练习代码实操中并未完全体现，但大部分都会接触到，以主要参考书籍的学习为准)  \n",
    "【dict字典】  \n",
    "定义  \n",
    "创建  \n",
    "字典的相关方法  \n",
    "\n",
    "【set集合】  \n",
    "特性  \n",
    "创建  \n",
    "方法  \n",
    "\n",
    "【file文件读取】  \n",
    " 打开文件方式（读写两种方式）  \n",
    "文件对象的操作方法  \n",
    "\\*学习对excel及csv文件进行操作*  \n",
    "**内容为选做内容，可根据自己基础决定是否做此内容  \n",
    "\n",
    "【作业构想】  \n",
    "学习代码200-300行  \n",
    "读取一个文件【文件将在之后给出】，将文件中转换为字典，key值为学习项目，value值为一个负责人列表，并判断字典中是否有负责人负责多个学习项目。  \n",
    "\n",
    "---\n",
    "## 三、练习代码实操\n",
    "### 1. 字典和结构化数据\n",
    "#### 1.1 字典数据类型\n",
    "&emsp;&emsp;像列表一样，“字典”是许多值的集合。但不像列表的下标，字典的索引可以使用许多不同数据类型，不只是整数。字典的索引被称为“键”，键及其关联的值称为“键-值”对。\n"
   ]
  },
  {
   "cell_type": "code",
   "execution_count": 1,
   "metadata": {},
   "outputs": [
    {
     "data": {
      "text/plain": [
       "'My cat has gray fur.'"
      ]
     },
     "execution_count": 1,
     "metadata": {},
     "output_type": "execute_result"
    }
   ],
   "source": [
    "myCat = {'size': 'fat', 'color': 'gray', 'disposition': 'loud'}\n",
    "myCat['size']\n",
    "'My cat has ' + myCat['color'] + ' fur.'"
   ]
  },
  {
   "cell_type": "markdown",
   "metadata": {},
   "source": [
    "字典中可以用整数类型作为下表，但不必从0开始"
   ]
  },
  {
   "cell_type": "code",
   "execution_count": 2,
   "metadata": {},
   "outputs": [],
   "source": [
    "spam = {12345: 'Luggage Combination', 42: 'The Answer'}"
   ]
  },
  {
   "cell_type": "markdown",
   "metadata": {},
   "source": [
    "##### 1.1.1 字典与列表\n",
    "&emsp;&emsp;不像列表，字典中的表项是不排序的。名为 spam的列表中，第一个表项是spam[0]。但字典中没有“第一个”表项。虽然确定两个列表是否相同时， 表项的顺序很重要，但在字典中，键-值对输入的顺序并不重要。\n"
   ]
  },
  {
   "cell_type": "code",
   "execution_count": null,
   "metadata": {},
   "outputs": [],
   "source": [
    "spam = ['cats', 'dogs', 'moose']\n",
    "bacon = ['dogs', 'moose', 'cats']\n",
    "spam == bacon"
   ]
  },
  {
   "cell_type": "code",
   "execution_count": null,
   "metadata": {},
   "outputs": [],
   "source": [
    "eggs = {'name': 'Zophie', 'species': 'cat', 'age': '8'}\n",
    "ham = {'species': 'cat', 'age': '8', 'name': 'Zophie'}\n",
    "eggs == ham"
   ]
  },
  {
   "cell_type": "markdown",
   "metadata": {},
   "source": [
    "同列表亦一样，在访问不存在的键值会提示出错。  \n",
    "下面是一个很棒的程序，创建了一个初始的字典，将它保存在 birthdays中。用 in 关键字，可以看看输入的名字是否作为键存在于字典中，就像查看列表一样。如果该名字在字典中，可以用方括号访问关联的值。如果不在，可以用同样的方括号语法和赋值操作符添加它。"
   ]
  },
  {
   "cell_type": "code",
   "execution_count": null,
   "metadata": {},
   "outputs": [],
   "source": [
    "birthdays = {'Alice': 'Apr 1', 'Bob': 'Dec 12', 'Carol': 'Mar 4'}\n",
    "while True:\n",
    "    print('Enter a name: (blank to quit)')\n",
    "    name = input()\n",
    "    if name == '':\n",
    "        break\n",
    "    if name in birthdays:       # 输出生日\n",
    "        print(birthdays[name] + ' is the birthday of ' + name)\n",
    "    else:\n",
    "        print('I do not have birthday information for ' + name)     # 添加生日\n",
    "        print('What is their birthday?')\n",
    "        bday = input()\n",
    "        birthdays[name] = bday\n",
    "        print('Birthday database updated.')"
   ]
  },
  {
   "cell_type": "markdown",
   "metadata": {},
   "source": [
    "##### 1.1.2 keys()、 values()和 items()方法\n",
    "&emsp;&emsp;有3个字典方法，它们将返回类似列表的值，分别对应于字典的键、值和键-值对：keys()、 values()和 items()。这些方法返回的值不是真正的列表，它们不能被修改，没有append()方法。但这些数据类型（分别是 dict_keys、dict_values 和 dict_items）可以用于for 循环。 \n",
    "\n",
    "请注意：==items()方法==返回的 dict_items 值中，包含的是==键和值的元组==。\n"
   ]
  },
  {
   "cell_type": "code",
   "execution_count": null,
   "metadata": {},
   "outputs": [],
   "source": [
    "spam = {'color': 'red', 'age': 42}\n",
    "for v in spam.values():\n",
    "    print(v)\n",
    "for k in spam.keys():\n",
    "    print(k)\n",
    "for i in spam.items():\n",
    "    print(i)"
   ]
  },
  {
   "cell_type": "markdown",
   "metadata": {},
   "source": [
    "如果希望通过这些方法得到一个真正的列表，就把类似列表的返回值传递给 list函数。"
   ]
  },
  {
   "cell_type": "code",
   "execution_count": null,
   "metadata": {},
   "outputs": [],
   "source": [
    "# list(spam.keys())代码行接受 keys()函数返回的 dict_keys 值，并传递给 list()。然\n",
    "# 后返回一个列表，即['color', 'age']。\n",
    "spam = {'color': 'red', 'age': 42}\n",
    "spam.keys()\n",
    "list(spam.keys())"
   ]
  },
  {
   "cell_type": "markdown",
   "metadata": {},
   "source": [
    "##### 1.1.3 检查字典中是否存在键或值\n",
    "&emsp;&emsp;in 和 not in 操作符可以检查值是否存在于列表中。也可以利用这些操作符，检查某个键或值是否存在于字典中。"
   ]
  },
  {
   "cell_type": "code",
   "execution_count": null,
   "metadata": {},
   "outputs": [],
   "source": [
    "spam = {'name': 'Zophie', 'age': 7}\n",
    "'name' in spam.keys()"
   ]
  },
  {
   "cell_type": "markdown",
   "metadata": {},
   "source": [
    "##### 1.1.4 get()方法\n",
    "&emsp;&emsp;在访问一个键的值之前，检查该键是否存在于字典中，这很麻烦。好在，字典有一个 get()方法，它有两个参数：要取得其值的键，以及如果该键不存在时，返回的备用值"
   ]
  },
  {
   "cell_type": "code",
   "execution_count": null,
   "metadata": {},
   "outputs": [],
   "source": [
    "picnicItems = {'apples': 5, 'cups': 2}\n",
    "'I am bringing ' + str(picnicItems.get('cups', 0)) + ' cups.'\n",
    "'I am bringing ' + str(picnicItems.get('eggs', 0)) + ' eggs.'"
   ]
  },
  {
   "cell_type": "markdown",
   "metadata": {},
   "source": [
    "##### 1.1.5 setdefault()方法\n",
    "&emsp;&emsp;setdefault()方法提供了一种方式，在一行中完成这件事。传递给该方法的第一个参数，是要检查的键。第二个参数，是如果该键不存在时要设置的值。如果该键确实存在，方法就会返回键的值。"
   ]
  },
  {
   "cell_type": "code",
   "execution_count": null,
   "metadata": {},
   "outputs": [],
   "source": [
    "spam = {'name': 'Pooka', 'age': 5}\n",
    "spam.setdefault('color', 'black')\n",
    "spam.setdefault('color', 'white')"
   ]
  },
  {
   "cell_type": "markdown",
   "metadata": {},
   "source": [
    "### 2. 集合（set）\n",
    "集合（set）是一个无序的==不重复==元素序列。  \n",
    "可以使用大括号 { } 或者 set() 函数创建集合，注意：创建一个空集合必须用 set() 而不是 { }，因为 { } 是用来创建一个空字典。"
   ]
  },
  {
   "cell_type": "code",
   "execution_count": null,
   "metadata": {},
   "outputs": [],
   "source": [
    "basket = {'apple', 'orange', 'apple', 'pear', 'orange', 'banana'}\n",
    "print(basket)                      # 这里演示的是去重功能\n",
    "'orange' in basket                 # 快速判断元素是否在集合内\n",
    "'crabgrass' in basket"
   ]
  },
  {
   "cell_type": "markdown",
   "metadata": {},
   "source": [
    "#### 2.1 集合的基本操作\n",
    "##### 2.1.1  添加元素\n",
    "将元素 x 添加到集合 s 中，如果元素已存在，则不进行任何操作"
   ]
  },
  {
   "cell_type": "code",
   "execution_count": null,
   "metadata": {},
   "outputs": [],
   "source": [
    "thisset = set((\"Google\", \"Runoob\", \"Taobao\"))\n",
    "thisset.add(\"Facebook\")\n",
    "print(thisset)"
   ]
  },
  {
   "cell_type": "markdown",
   "metadata": {},
   "source": [
    "##### 2.1.2 移除元素"
   ]
  },
  {
   "cell_type": "code",
   "execution_count": null,
   "metadata": {},
   "outputs": [],
   "source": [
    "thisset = set((\"Google\", \"Runoob\", \"Taobao\"))\n",
    "thisset.remove(\"Taobao\")\n",
    "print(thisset)"
   ]
  },
  {
   "cell_type": "markdown",
   "metadata": {},
   "source": [
    "##### 2.1.3 计算集合元素个数\n",
    "计算集合 s 元素个数。"
   ]
  },
  {
   "cell_type": "code",
   "execution_count": null,
   "metadata": {},
   "outputs": [],
   "source": [
    "thisset = set((\"Google\", \"Runoob\", \"Taobao\"))\n",
    "len(thisset)"
   ]
  },
  {
   "cell_type": "markdown",
   "metadata": {},
   "source": [
    "##### 2.1.4 清空集合\n",
    "清空集合 s"
   ]
  },
  {
   "cell_type": "code",
   "execution_count": null,
   "metadata": {},
   "outputs": [],
   "source": [
    "thisset = set((\"Google\", \"Runoob\", \"Taobao\"))\n",
    "thisset.clear()\n",
    "print(thisset)"
   ]
  },
  {
   "cell_type": "markdown",
   "metadata": {},
   "source": [
    "##### 2.1.5 判断元素是否在集合中存在\n",
    "判断元素 x 是否在集合 s 中，存在返回 True，不存在返回 False。"
   ]
  },
  {
   "cell_type": "code",
   "execution_count": null,
   "metadata": {},
   "outputs": [],
   "source": [
    "thisset = set((\"Google\", \"Runoob\", \"Taobao\"))\n",
    "\"Runoob\" in thisset\n",
    "\"Facebook\" in thisset"
   ]
  },
  {
   "cell_type": "markdown",
   "metadata": {},
   "source": [
    "**集合内置方法完整列表(部分)**\n",
    "\n",
    "方法|描述  \n",
    "---|---  \n",
    "add()|为集合添加元素  \n",
    "clear()|移除集合中的所有元素  \n",
    "copy()|拷贝一个集合  \n",
    "difference()|返回多个集合的差集  \n",
    "difference_update()|移除集合中的元素，该元素在指定的集合也存在。  \n",
    "pop()|随机移除元素  \n",
    "remove()|移除指定元素  \n",
    "\n",
    "### 3.Python3 File(文件)方法  \n",
    "#### 3.1 open() 方法\n",
    "Python open() 方法用于打开一个文件，并返回文件对象，在对文件进行处理过程都需要使用到这个函数，如果该文件无法被打开，会抛出 OSError。  \n",
    "\n",
    "注意：使用 open() 方法一定要保证关闭文件对象，即调用 close() 方法。  \n",
    "open() 函数常用形式是接收两个参数：文件名(file)和模式(mode)。  \n"
   ]
  },
  {
   "cell_type": "code",
   "execution_count": null,
   "metadata": {},
   "outputs": [],
   "source": [
    "open(file, mode='r')"
   ]
  },
  {
   "cell_type": "markdown",
   "metadata": {},
   "source": [
    "完整的语法格式为："
   ]
  },
  {
   "cell_type": "code",
   "execution_count": null,
   "metadata": {},
   "outputs": [],
   "source": [
    "open(file, mode='r', buffering=-1, encoding=None, errors=None, newline=None, closefd=True, opener=None)"
   ]
  },
  {
   "cell_type": "markdown",
   "metadata": {},
   "source": [
    "\n",
    "**参数说明:** \n",
    "\n",
    "- file: 必需，文件路径（相对或者绝对路径）。  \n",
    "-  mode: 可选，文件打开模式  \n",
    "- buffering: 设置缓冲  \n",
    "- encoding: 一般使用utf8  \n",
    "- errors: 报错级别  \n",
    "- newline: 区分换行符  \n",
    "- closefd: 传入的file参数类型  \n",
    "#### 3.2 file 对象\n",
    "file 对象使用 open 函数来创建，下表列出了 file 对象常用的函数（部分）：\n",
    "\n",
    "序号 | 方法及描述\n",
    "---|---\n",
    "1.file.close() | 关闭文件。关闭后文件不能再进行读写操作。\n",
    "2.file.flush() | 刷新文件内部缓冲，直接把内部缓冲区的数据立刻写入文件, 而不是被动的等待输出缓冲区写入。\n",
    "3.file.fileno()|返回一个整型的文件描述符(file descriptor FD 整型), 可以用在如os模块的read方法等一些底层操作上。\n",
    "4.file.isatty()|如果文件连接到一个终端设备返回 True，否则返回 False。\n",
    "\n",
    "---\n",
    "## 四、作业代码"
   ]
  },
  {
   "cell_type": "code",
   "execution_count": null,
   "metadata": {},
   "outputs": [],
   "source": [
    "Txt={}\n",
    "f = open(\"F:\\Pythonsave\\homework.txt\", encoding='UTF-8')\n",
    "Row = f.readline().strip()\n",
    "while Row:\n",
    "    Rows = Row.split()\n",
    "    Row = f.readline().strip()\n",
    "    Txt.update({Rows[0]:Rows[1:]})\n",
    "    for a, b in Txt.items():\n",
    "        print(a + ':' + str(b))"
   ]
  },
  {
   "cell_type": "code",
   "execution_count": null,
   "metadata": {},
   "outputs": [],
   "source": []
  }
 ],
 "metadata": {
  "kernelspec": {
   "display_name": "Python 3",
   "language": "python",
   "name": "python3"
  },
  "language_info": {
   "codemirror_mode": {
    "name": "ipython",
    "version": 3
   },
   "file_extension": ".py",
   "mimetype": "text/x-python",
   "name": "python",
   "nbconvert_exporter": "python",
   "pygments_lexer": "ipython3",
   "version": "3.7.1"
  }
 },
 "nbformat": 4,
 "nbformat_minor": 2
}
