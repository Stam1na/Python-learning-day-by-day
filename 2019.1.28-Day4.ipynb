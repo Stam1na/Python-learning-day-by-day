{
 "cells": [
  {
   "cell_type": "markdown",
   "metadata": {},
   "source": [
    "#!/usr/bin/env python  \n",
    "#-*- coding:utf-8 -*-\n",
    "\n",
    "## 见枫的Python学习Day4——2019.1.28  \n",
    "### 一、学前准备\n",
    "①书籍参考:  \n",
    "&emsp;&emsp;主：《Python编程快速上手——让繁琐的工作自动化》  \n",
    "&emsp;&emsp;辅：《Python编程：从入门到实践》、菜鸟教程    \n",
    "②编程IDE：Pycharm  \n",
    "③代码说明文档编写：Jupyter Notebook\n",
    "\n",
    "\n",
    "---\n",
    "### 二、学习要求：(在第三部分练习代码实操中并未完全体现，但大部分都会接触到，以主要参考书籍的学习为准)  \n",
    "判断语句（要求掌握多条件判断）  \n",
    "循环语句  \n",
    "三目表达式  \n",
    "容器  \n",
    "可迭代对象  \n",
    "迭代器  \n",
    "生成器  \n",
    "\n",
    "【作业构想】  \n",
    "学习代码200-300行  \n",
    "请对方输入一个0-9之间的数字，进行检查，若不是数字提示：您输入的不是数字，请输入0-9间的数字，若数字不在0-9范围内，提示用户输入0-9之间的数字，直至用户输入正确。系统随机生成一个长度为3的数字列表，且列表中元素在0-9之间并且不相等。将用户输入与该列表进行比较，若为列表第一个元素，则荣获第一名，列表第二个元素，则荣获第二名，列表第三个名字，则荣获第三名，否则提示用户未得奖，输入1重新开始游戏，输入2则结束游戏。  \n",
    "\n",
    "注意：每次游戏中列表中数字要求随机生成，每轮游戏都不相等。\n",
    "\n",
    "\n",
    "\n",
    "---\n",
    "## 三、练习代码实操：\n",
    "\n",
    "### 1.控制流语句\n",
    "\n",
    "##### 1.1 if\n",
    "如果条件为真，执行子句中的代码。在 Python中， if 语句包含以下部分：  \n",
    "- if 关键字；  \n",
    "- 条件（即求值为 True 或 False 的表达式）；  \n",
    "- 冒号；（昨天的作业提到冒号的用法，出现在函数定义语句末尾为格式要求）  \n",
    "- 在下一行开始，缩进的代码块（称为 if 子句）。  \n"
   ]
  },
  {
   "cell_type": "code",
   "execution_count": null,
   "metadata": {},
   "outputs": [],
   "source": [
    "name=input()\n",
    "if name == 'Mary':\n",
    "    print('Hello Mary')\n",
    "else:\n",
    "    print('Wrong word.')"
   ]
  },
  {
   "cell_type": "markdown",
   "metadata": {},
   "source": [
    "##### 1.2 else 语句  \n",
    "if 子句后面有时候也可以跟着 else 语句。只有 if 语句的条件为 False 时， else子句才会执行  \n",
    "- else 关键字；  \n",
    "- 冒号；  \n",
    "- 在下一行开始，缩进的代码块（称为 else 子句）。  \n"
   ]
  },
  {
   "cell_type": "code",
   "execution_count": null,
   "metadata": {},
   "outputs": [],
   "source": [
    "name=input()\n",
    "if name=='Alice':       # 字符串的==不要忘记\n",
    "    print('Hello,Alice!') \n",
    "else:       # 注意冒号\n",
    "    print('Hello,Stranger!')"
   ]
  },
  {
   "cell_type": "markdown",
   "metadata": {},
   "source": [
    "##### 1.3 elif语句\n",
    " elif 语句是“否则如果”，总是跟在 if 或另一条 elif语句后面。它提供了另一个条件，仅在前面的条件为 False 时才检查该条件。  \n",
    "- elif 关键字；\n",
    "- 条件（即求值为 True 或 False 的表达式）；\n",
    "- 冒号；\n",
    "- 在下一行开始，缩进的代码块（称为 elif 子句）。\n"
   ]
  },
  {
   "cell_type": "code",
   "execution_count": null,
   "metadata": {},
   "outputs": [],
   "source": [
    "name=input('What\\'s your Name?\\n')      # 书中给出的代码应该是伪代码，我们可以按照他的思路去理清elif的用法\n",
    "if name == 'Alice':\n",
    "    print('Hi, Alice.')\n",
    "elif age < 12:\n",
    "    print('You are not Alice, kiddo.')\n",
    "else:\n",
    "    print('You are neither Alice nor a little kid.')"
   ]
  },
  {
   "cell_type": "markdown",
   "metadata": {},
   "source": [
    "注意：总是只有一个 if 语句。所有需要的 elif 语句都应该跟在 if语句之后。其次，如果希望确保至少一条子句被执行，在最后加上 else 语句。\n",
    "##### 1.4 while 循环语句\n",
    "> 利用 while 语句， 可以让一个代码块一遍又一遍的执行（这就是与if语句不同的地方，他不会调出循环，而是又重复回到首行继续执行）。只要 while 语句的条件为 True， while 子句中的代码就会执行。  \n",
    "- 关键字；\n",
    "-  条件（求值为 True 或 False 的表达式）；\n",
    "-  冒号；\n",
    "- 从新行开始，缩进的代码块（称为 while 子句）。  \n",
    "\n",
    "我们分别运行if和while的来查看他们之间的区别。  "
   ]
  },
  {
   "cell_type": "markdown",
   "metadata": {},
   "source": [
    "**1° if**"
   ]
  },
  {
   "cell_type": "code",
   "execution_count": null,
   "metadata": {},
   "outputs": [],
   "source": [
    "spam=0\n",
    "if spam<5:\n",
    "    print('Hello,world!')\n",
    "    spam+=1\n",
    "print(spam)\n",
    "\n",
    "# 输出\n",
    "Hello,world!\n",
    "1"
   ]
  },
  {
   "cell_type": "markdown",
   "metadata": {},
   "source": [
    "**2° while**"
   ]
  },
  {
   "cell_type": "code",
   "execution_count": null,
   "metadata": {},
   "outputs": [],
   "source": [
    "spam=0\n",
    "while spam<5:\n",
    "    print('Hello,world!')\n",
    "    spam+=1\n",
    "print(spam)\n",
    "\n",
    "# 输出\n",
    "Hello,world!\n",
    "Hello,world!\n",
    "Hello,world!\n",
    "Hello,world!\n",
    "Hello,world!\n",
    "5"
   ]
  },
  {
   "cell_type": "markdown",
   "metadata": {},
   "source": [
    "由上面的代码我们可以看出，if在执行一次之后就会跳出，而while在会一直执行到条件为False。  \n",
    "书上面是这么阐述的：\n",
    "> 在 while 循环中，条件总是在每次“迭代” 开始时检查（也就是每次循环执行\n",
    "时）。如果条件为 True，子句就会执行，然后， 再次检查条件。当条件第一次为 False\n",
    "时，while 子句就跳过。 \n",
    "##### 1.5 恼人的循环\n",
    "书籍中先给出了一个比较特别得程序，它不停地要求你输入“ijianfeng”"
   ]
  },
  {
   "cell_type": "code",
   "execution_count": null,
   "metadata": {},
   "outputs": [],
   "source": [
    "name=''     # name为空字符串，以便进入while循环\n",
    "while name!='ijianfeng':\n",
    "    print('Please type your name!\\n')\n",
    "    name=input()\n",
    "print('thank you!\\n')\n",
    "\n",
    "# 输出\n",
    ">>Please type your name.\n",
    "%#@#%*(^&!!!\n",
    ">>Please type your name.\n",
    ">>ijianfeng\n",
    "Thank you!"
   ]
  },
  {
   "cell_type": "markdown",
   "metadata": {},
   "source": [
    "在输入文本赋值给name之后 会进行判断，如果判断是否为条件中的“ijianfeng”，如果是，则跳出循环，输出“thank you” ；若不是，则会继续循环。\n",
    "##### 1.6 break语句"
   ]
  },
  {
   "cell_type": "code",
   "execution_count": null,
   "metadata": {},
   "outputs": [],
   "source": [
    "while True:     # 无限循环\n",
    "    name=input()\n",
    "    name != 'ijianfeng'\n",
    "    if name=='ijianfeng':\n",
    "        break\n",
    "print('Thank you!\\n')"
   ]
  },
  {
   "cell_type": "markdown",
   "metadata": {},
   "source": [
    "本程序中在无限循环中加入了一个if条件语句，只有符合条件的时候（即键盘输入ijianfeng\n",
    "即可进入），进入之后会有Break语句，Break语句就是跳出循环的作用（就算是无限循环也会跳出）。\n",
    "##### 1.7 continue语句\n",
    "> 像 break 语句一样， continue 语句用于循环内部。如果程序执行遇到 continue\n",
    "> 语句，就会马上跳回到循环开始处，重新对循环条件求值（这也是执行到达循环末\n",
    "> 尾时发生的事情）。  \n"
   ]
  },
  {
   "cell_type": "code",
   "execution_count": null,
   "metadata": {},
   "outputs": [],
   "source": [
    "while True:     # 无限循环\n",
    "    print('Who are you?')\n",
    "    name = input()\n",
    "    if name != 'ijianfeng':\n",
    "        continue        # 当判断为True时跳回循环开头\n",
    "    print('Hello, ijianfeng. What is the password? (It is a fish.)')\n",
    "    password = input()\n",
    "    if password == 'swordfish':# 当判断为键盘输入为swordfish时结束循环\n",
    "        break\n",
    "print('Access granted.')"
   ]
  },
  {
   "cell_type": "markdown",
   "metadata": {},
   "source": [
    "> 在用于条件时， 0、 0.0 和' '（空字符串）被认为是 False，其他值被认为是 True。"
   ]
  },
  {
   "cell_type": "code",
   "execution_count": null,
   "metadata": {},
   "outputs": [],
   "source": [
    "name = ''\n",
    "while not name:     # 因为空值为False，not name为True，进入循环\n",
    "    print('Enter your name:')\n",
    "    name = input()\n",
    "    print('How many guests will you have?')\n",
    "    numOfGuests = int(input())      # 强制将input中的字符串转换为int型，若输入不为int型则会出错\n",
    "    if numOfGuests:\n",
    "        print('Be sure to have enough room for all your guests.')\n",
    "print('Done')"
   ]
  },
  {
   "cell_type": "markdown",
   "metadata": {},
   "source": [
    "在这个程序中，\n",
    "##### 1.8 for 循环和 range()函数\n",
    "> 与while循环不同的是，for循环和range可以指定循环的次数\n",
    "\n",
    "for 关键字；  \n",
    "在代码中， for 语句看起来像 for i in range(5):这样， 总是包含以下部分：\n",
    "- 一个变量名；\n",
    "- in 关键字；\n",
    "- 调用 range()方法，最多传入 3 个参数；\n",
    "- 冒号；\n",
    "- 从下一行开始，缩退的代码块（称为 for 子句）。\n"
   ]
  },
  {
   "cell_type": "code",
   "execution_count": null,
   "metadata": {},
   "outputs": [],
   "source": [
    "print('My name is')\n",
    "for i in range(5):      # 特别注意：当i未被赋值则默认为0\n",
    "    print(\"Ijianfeng Five Times(\"+str(i)+')')\n",
    "    \n",
    "# 输出\n",
    "My name is-->\n",
    "Ijianfeng Five Times(0)\n",
    "Ijianfeng Five Times(1)\n",
    "Ijianfeng Five Times(2)\n",
    "Ijianfeng Five Times(3)\n",
    "Ijianfeng Five Times(4)"
   ]
  },
  {
   "cell_type": "markdown",
   "metadata": {},
   "source": [
    "自增"
   ]
  },
  {
   "cell_type": "code",
   "execution_count": null,
   "metadata": {},
   "outputs": [],
   "source": [
    "for total in range(100):        # 与上面同理，本程序是1-100自增\n",
    "    total+=1\n",
    "print(total)"
   ]
  },
  {
   "cell_type": "markdown",
   "metadata": {},
   "source": [
    "##### 1.9 range()的开始、 停止和步长参数\n"
   ]
  },
  {
   "cell_type": "code",
   "execution_count": null,
   "metadata": {},
   "outputs": [],
   "source": [
    "for i in range(12, 16):\n",
    "    print(i)\n",
    "# 输出\n",
    "12\n",
    "13\n",
    "14\n",
    "15"
   ]
  },
  {
   "cell_type": "markdown",
   "metadata": {},
   "source": [
    "第一个参数是 for 循环变量开始的值， 第二个参数是上限， 但不包含它， 也就\n",
    "是循环停止的数字。"
   ]
  },
  {
   "cell_type": "code",
   "execution_count": null,
   "metadata": {},
   "outputs": [],
   "source": [
    "for i in range(5, -1, -1):      # 第三个-1为步长参数，让循环计数逐渐减少，而不是增加。\n",
    "    print(i)"
   ]
  },
  {
   "cell_type": "markdown",
   "metadata": {},
   "source": [
    "### 2.迭代器与生成器\n",
    "#### 2.1迭代器\n",
    "迭代器是一个可以记住遍历的位置的对象。  \n",
    "迭代器对象从集合的第一个元素开始访问，直到所有的元素被访问完结束。迭代器只能往前不会后退。  \n",
    "迭代器有两个基本的方法：iter() 和 next()。  \n",
    "字符串，列表或元组对象都可用于创建迭代器：  "
   ]
  },
  {
   "cell_type": "code",
   "execution_count": null,
   "metadata": {},
   "outputs": [],
   "source": [
    "list=[1,2,3,4]\n",
    "it = iter(list)    # 创建迭代器对象\n",
    "print (next(it))   # 输出迭代器的下一个元素\n",
    "print (next(it))"
   ]
  },
  {
   "cell_type": "markdown",
   "metadata": {},
   "source": [
    "##### 2.1.1创建一个迭代器\n",
    "把一个类作为一个迭代器使用需要在类中实现两个方法 __iter__() 与 __next__() 。\n",
    "\n",
    "如果你已经了解的面向对象编程，就知道类都有一个构造函数，Python 的构造函数为 __init__(), 它会在对象初始化的时候执行。  \n",
    "__iter__() 方法返回一个特殊的迭代器对象， 这个迭代器对象实现了 __next__()   方法并通过 StopIteration 异常标识迭代的完成。  \n",
    "__next__() 方法会返回下一个迭代器对象。  \n",
    "创建一个返回数字的迭代器，初始值为 1，逐步递增 1：  \n"
   ]
  },
  {
   "cell_type": "code",
   "execution_count": null,
   "metadata": {},
   "outputs": [],
   "source": [
    "class MyNumbers:\n",
    "  def __iter__(self):\n",
    "    self.a = 1\n",
    "    return self\n",
    " \n",
    "  def __next__(self):\n",
    "    x = self.a\n",
    "    self.a += 1\n",
    "    return x\n",
    " \n",
    "myclass = MyNumbers()\n",
    "myiter = iter(myclass)\n",
    " \n",
    "print(next(myiter))\n",
    "print(next(myiter))\n",
    "print(next(myiter))\n",
    "print(next(myiter))\n",
    "print(next(myiter))"
   ]
  },
  {
   "cell_type": "markdown",
   "metadata": {},
   "source": [
    "#### 2.2生成器\n",
    "在 Python 中，使用了 yield 的函数被称为生成器（generator）。\n",
    "\n",
    "跟普通函数不同的是，生成器是一个返回迭代器的函数，只能用于迭代操作，更简单点理解生成器就是一个迭代器。\n",
    "\n",
    "在调用生成器运行的过程中，每次遇到 yield 时函数会暂停并保存当前所有的运行信息，返回 yield 的值, 并在下一次执行 next() 方法时从当前位置继续运行。\n",
    "\n",
    "调用一个生成器函数，返回的是一个迭代器对象。"
   ]
  },
  {
   "cell_type": "code",
   "execution_count": null,
   "metadata": {},
   "outputs": [],
   "source": [
    "#!/usr/bin/python3\n",
    " \n",
    "import sys\n",
    " \n",
    "def fibonacci(n): # 生成器函数 - 斐波那契\n",
    "    a, b, counter = 0, 1, 0\n",
    "    while True:\n",
    "        if (counter > n): \n",
    "            return\n",
    "        yield a\n",
    "        a, b = b, a + b\n",
    "        counter += 1\n",
    "f = fibonacci(10) # f 是一个迭代器，由生成器返回生成\n",
    " \n",
    "while True:\n",
    "    try:\n",
    "        print (next(f), end=\" \")\n",
    "    except StopIteration:\n",
    "        sys.exit()"
   ]
  },
  {
   "cell_type": "markdown",
   "metadata": {},
   "source": [
    "#### 2.3 可迭代的对象\n",
    "怎么判断一个对象是否是可迭代的对象呢？可以用collections模块里面的iterable包的isinstance函数进行判断："
   ]
  },
  {
   "cell_type": "code",
   "execution_count": null,
   "metadata": {},
   "outputs": [],
   "source": [
    "from collections import Iterable#载入模块\n",
    "isinstance('abc',Iterable) #字符串是可迭代对象吗？\n",
    "isinstance([1,2,3],Iterable) #list是可迭代对象吗？\n",
    "isinstance({'dede':123},Iterable) #字典是可迭代对象吗？"
   ]
  },
  {
   "cell_type": "markdown",
   "metadata": {},
   "source": [
    "### 3.Python的三目运算符：（网上资料好像就这么点）　　　\n",
    "条件为真时的结果&emsp;if&emsp;判段的条件&emsp;else&emsp;条件为假时的结果 "
   ]
  },
  {
   "cell_type": "code",
   "execution_count": null,
   "metadata": {},
   "outputs": [],
   "source": [
    "x = int(input(\"please enter first integer:\"))\n",
    "y = int(input(\"please enter second integer:\"))\n",
    "\n",
    "#一般的写法\n",
    " if (x == y):\n",
    "     print(\"两数相同！\")\n",
    " elif(x > y):\n",
    "     print(\"较大的数为：\",x)\n",
    " else:\n",
    "     print(\"较大的数为：\",y)\n",
    "            \n",
    "# 三目运算符写法\n",
    "print(x if(x>y) else y)"
   ]
  },
  {
   "cell_type": "markdown",
   "metadata": {},
   "source": [
    "作业要求：\n",
    "> 请对方输入一个0-9之间的数字，进行检查，若不是数字提示：\n",
    "> \n",
    "> 您输入的不是数字，请输入0-9间的数字，\n",
    "> 若数字不在0-9范围内，提示用户输入0-9之间的数字，\n",
    "> 直至用户输入正确。\n",
    "> \n",
    "> 系统随机生成一个长度为3的数字列表，且列表中元素在0-9之间并且不相等。\n",
    "> 将用户输入与该列表进行比较，若为列表第一个元素，则荣获第一名，\n",
    "> 列表第二个元素，则荣获第二名，\n",
    "> 列表第三个名字，则荣获第三名，\n",
    "> 否则提示用户未得奖，输入1重新开始游戏，输入2则结束游戏。\n",
    "> \n",
    "> 注意：每次游戏中列表中数字要求随机生成，每轮游戏都不相等。  \n",
    "  \n",
    "\n",
    "作业较为复杂，首先把其分解为如下8个小块\n",
    "\n",
    "> 请对方输入一个0-9之间的数字，进行检查，若不是则数字提示：      # input函数  \n",
    "> \n",
    "> 1.您输入的不是数字，请输入0-9间的数字，        # input函数    \n",
    "> 2.若数字不在0-9范围内，提示用户输入0-9之间的数字，  \n",
    "> 3.直至用户输入正确。  \n",
    "> \n",
    "> 4.系统随机生成一个长度为3的数字列表，且列表中元素在0-9之间并且不相等。 #  random随机生成列表   \n",
    "> 5.将用户输入与该列表进行比较，若为列表第一个元素，则荣获第一名，  \n",
    "> 6.列表第二个元素，则荣获第二名，  \n",
    "> 7.列表第三个名字，则荣获第三名，  \n",
    "> 8.否则提示用户未得奖，输入1重新开始游戏，输入2则结束游戏。  \n",
    "> \n",
    "> 注意：每次游戏中列表中数字要求随机生成，每轮游戏都不相等。  \n",
    "\n",
    "**作业附加知识：**  \n",
    "\n",
    "**1.random.randint**  \n",
    "\n",
    "\n",
    "random.randint()的函数原型为：random.randint(a,b)，用于生成一个指定范围内的整数。其中参数a是下限，参数b是上限，生成的随机数n: a <= n <= b\n"
   ]
  },
  {
   "cell_type": "code",
   "execution_count": null,
   "metadata": {},
   "outputs": [],
   "source": [
    "print(random.randint(12, 20)) #生成的随机数n: 12 <= n <= 20"
   ]
  },
  {
   "cell_type": "markdown",
   "metadata": {},
   "source": [
    "**2.isdigit()==False:**  \n",
    "所有的字符返回为真则返回True，否则返回False"
   ]
  },
  {
   "cell_type": "code",
   "execution_count": null,
   "metadata": {},
   "outputs": [],
   "source": [
    "import random\n",
    "game=input('按1开始，否则结束游戏！')\n",
    "while int(game)==1:\n",
    "      num=input('请输入0-9的数字')\n",
    "      while num.isdigit()==True:\n",
    "            num1 = int(num)\n",
    "            while num1 in range(10):\n",
    "\n",
    "                  RaList = set()  # 生成随机的3个5不同集合（集合不会有重复数字出现）\n",
    "                  while len(RaList) < 3:\n",
    "                        RaList.add(random.randint(0, 9))\n",
    "                  RaList1 = list(RaList)  # 将set转换为list（因为set没有index）\n",
    "\n",
    "                  print(RaList1)\n",
    "\n",
    "                  if num1 == RaList1[0]:\n",
    "                        print('恭喜获得一等奖\\n')\n",
    "                        break\n",
    "                  elif num1 == RaList1[1]:\n",
    "                        print('恭喜获得二等奖\\n')\n",
    "                        break\n",
    "                  elif num1 == RaList1[2]:\n",
    "                        print('恭喜获得三等奖\\n')\n",
    "                        break\n",
    "                  else:\n",
    "                        print('很遗憾未中奖')\n",
    "                        print(\"你想再来一次吗？输入1重新开始，否则结束游戏\")\n",
    "                        while num1 not in RaList1:\n",
    "                              break\n",
    "                  while num1 not in range(10):\n",
    "                        break\n",
    "            while num.isdigit() == False:\n",
    "                  break\n",
    "            else:\n",
    "                  print('您输入的数字不在0-9的范围内！')\n",
    "                  break\n",
    "      else:\n",
    "            print('您输入的不是数字，请输入0-9的数字！')\n",
    "            continue\n",
    "else:\n",
    "      exit()"
   ]
  }
 ],
 "metadata": {
  "kernelspec": {
   "display_name": "Python 3",
   "language": "python",
   "name": "python3"
  },
  "language_info": {
   "codemirror_mode": {
    "name": "ipython",
    "version": 3
   },
   "file_extension": ".py",
   "mimetype": "text/x-python",
   "name": "python",
   "nbconvert_exporter": "python",
   "pygments_lexer": "ipython3",
   "version": "3.7.1"
  }
 },
 "nbformat": 4,
 "nbformat_minor": 2
}
